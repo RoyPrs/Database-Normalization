{
 "cells": [
  {
   "cell_type": "markdown",
   "id": "f7325f03",
   "metadata": {},
   "source": [
    "### Database Normalization\n",
    "\n",
    "In this post I am going to normalize music tracks data which is in spreadsheet form.\n",
    "I will do some things differently in this case. I will not use a separate \"raw\" table, I will just use ALTER TABLE statements to remove columns after I don't need them."
   ]
  },
  {
   "cell_type": "code",
   "execution_count": 2,
   "id": "73ef7f5e",
   "metadata": {},
   "outputs": [],
   "source": [
    "import pandas as pd\n"
   ]
  },
  {
   "cell_type": "code",
   "execution_count": 16,
   "id": "09e4fbd9",
   "metadata": {},
   "outputs": [
    {
     "data": {
      "text/html": [
       "<div>\n",
       "<style scoped>\n",
       "    .dataframe tbody tr th:only-of-type {\n",
       "        vertical-align: middle;\n",
       "    }\n",
       "\n",
       "    .dataframe tbody tr th {\n",
       "        vertical-align: top;\n",
       "    }\n",
       "\n",
       "    .dataframe thead th {\n",
       "        text-align: right;\n",
       "    }\n",
       "</style>\n",
       "<table border=\"1\" class=\"dataframe\">\n",
       "  <thead>\n",
       "    <tr style=\"text-align: right;\">\n",
       "      <th></th>\n",
       "      <th>Track</th>\n",
       "      <th>Artist</th>\n",
       "      <th>Album</th>\n",
       "      <th>Count</th>\n",
       "      <th>Rating</th>\n",
       "      <th>Len</th>\n",
       "    </tr>\n",
       "  </thead>\n",
       "  <tbody>\n",
       "    <tr>\n",
       "      <th>0</th>\n",
       "      <td>Another One Bites The Dust</td>\n",
       "      <td>Queen</td>\n",
       "      <td>Greatest Hits</td>\n",
       "      <td>55.0</td>\n",
       "      <td>100.0</td>\n",
       "      <td>217</td>\n",
       "    </tr>\n",
       "    <tr>\n",
       "      <th>1</th>\n",
       "      <td>Asche Zu Asche</td>\n",
       "      <td>Rammstein</td>\n",
       "      <td>Herzeleid</td>\n",
       "      <td>79.0</td>\n",
       "      <td>100.0</td>\n",
       "      <td>231</td>\n",
       "    </tr>\n",
       "    <tr>\n",
       "      <th>2</th>\n",
       "      <td>Beauty School Dropout</td>\n",
       "      <td>Various</td>\n",
       "      <td>Grease</td>\n",
       "      <td>48.0</td>\n",
       "      <td>100.0</td>\n",
       "      <td>239</td>\n",
       "    </tr>\n",
       "    <tr>\n",
       "      <th>3</th>\n",
       "      <td>Black Dog</td>\n",
       "      <td>Led Zeppelin</td>\n",
       "      <td>IV</td>\n",
       "      <td>109.0</td>\n",
       "      <td>100.0</td>\n",
       "      <td>296</td>\n",
       "    </tr>\n",
       "    <tr>\n",
       "      <th>4</th>\n",
       "      <td>Bring The Boys Back Home</td>\n",
       "      <td>Pink Floyd</td>\n",
       "      <td>The Wall [Disc 2]</td>\n",
       "      <td>33.0</td>\n",
       "      <td>100.0</td>\n",
       "      <td>87</td>\n",
       "    </tr>\n",
       "    <tr>\n",
       "      <th>5</th>\n",
       "      <td>Circles</td>\n",
       "      <td>Bryan Lee</td>\n",
       "      <td>Blues Is</td>\n",
       "      <td>54.0</td>\n",
       "      <td>60.0</td>\n",
       "      <td>355</td>\n",
       "    </tr>\n",
       "    <tr>\n",
       "      <th>6</th>\n",
       "      <td>Comfortably Numb</td>\n",
       "      <td>Pink Floyd</td>\n",
       "      <td>The Wall [Disc 2]</td>\n",
       "      <td>36.0</td>\n",
       "      <td>100.0</td>\n",
       "      <td>384</td>\n",
       "    </tr>\n",
       "    <tr>\n",
       "      <th>7</th>\n",
       "      <td>Crazy Little Thing Called Love</td>\n",
       "      <td>Queen</td>\n",
       "      <td>Greatest Hits</td>\n",
       "      <td>38.0</td>\n",
       "      <td>100.0</td>\n",
       "      <td>163</td>\n",
       "    </tr>\n",
       "    <tr>\n",
       "      <th>8</th>\n",
       "      <td>Electric Funeral</td>\n",
       "      <td>Black Sabbath</td>\n",
       "      <td>Paranoid</td>\n",
       "      <td>44.0</td>\n",
       "      <td>100.0</td>\n",
       "      <td>293</td>\n",
       "    </tr>\n",
       "    <tr>\n",
       "      <th>9</th>\n",
       "      <td>Fat Bottomed Girls</td>\n",
       "      <td>Queen</td>\n",
       "      <td>Greatest Hits</td>\n",
       "      <td>38.0</td>\n",
       "      <td>100.0</td>\n",
       "      <td>257</td>\n",
       "    </tr>\n",
       "  </tbody>\n",
       "</table>\n",
       "</div>"
      ],
      "text/plain": [
       "                            Track         Artist              Album  Count  \\\n",
       "0      Another One Bites The Dust          Queen      Greatest Hits   55.0   \n",
       "1                  Asche Zu Asche      Rammstein          Herzeleid   79.0   \n",
       "2           Beauty School Dropout        Various             Grease   48.0   \n",
       "3                       Black Dog   Led Zeppelin                 IV  109.0   \n",
       "4        Bring The Boys Back Home     Pink Floyd  The Wall [Disc 2]   33.0   \n",
       "5                         Circles      Bryan Lee           Blues Is   54.0   \n",
       "6                Comfortably Numb     Pink Floyd  The Wall [Disc 2]   36.0   \n",
       "7  Crazy Little Thing Called Love          Queen      Greatest Hits   38.0   \n",
       "8                Electric Funeral  Black Sabbath           Paranoid   44.0   \n",
       "9              Fat Bottomed Girls          Queen      Greatest Hits   38.0   \n",
       "\n",
       "   Rating  Len  \n",
       "0   100.0  217  \n",
       "1   100.0  231  \n",
       "2   100.0  239  \n",
       "3   100.0  296  \n",
       "4   100.0   87  \n",
       "5    60.0  355  \n",
       "6   100.0  384  \n",
       "7   100.0  163  \n",
       "8   100.0  293  \n",
       "9   100.0  257  "
      ]
     },
     "execution_count": 16,
     "metadata": {},
     "output_type": "execute_result"
    }
   ],
   "source": [
    "\n",
    "names = ['Track', 'Artist', 'Album', 'Count', 'Rating', 'Len']\n",
    "tracks = pd.read_csv('library.csv', header=None, names=names)\n",
    "\n",
    "tracks.head(10)\n"
   ]
  },
  {
   "cell_type": "code",
   "execution_count": 14,
   "id": "9871f43f",
   "metadata": {},
   "outputs": [
    {
     "name": "stdout",
     "output_type": "stream",
     "text": [
      "(296, 6)\n"
     ]
    }
   ],
   "source": [
    "print(tracks.shape)"
   ]
  },
  {
   "cell_type": "markdown",
   "id": "c7cbf722",
   "metadata": {},
   "source": [
    "Obviously this data, as it is,  has many vertical replications in Artist and Album columns. Data replication takes a lot of memory and makes the database hard to maintain and manipulate. \n",
    "\n",
    "To address these issues, we need to import this dataset into a relational database and use relations to eliminate duplication and make the data integrated and consistent.\n",
    "\n",
    "Let's start with creating a PostgreSQL database. "
   ]
  },
  {
   "cell_type": "code",
   "execution_count": 3,
   "id": "14c9d8bc",
   "metadata": {},
   "outputs": [],
   "source": [
    "CREATE DATABASE musical"
   ]
  },
  {
   "cell_type": "markdown",
   "id": "a6034ef9",
   "metadata": {},
   "source": [
    "The databse was successfully created and now I need to create a table and copy the content of library.csv file into it."
   ]
  },
  {
   "cell_type": "code",
   "execution_count": 2,
   "id": "2e32b7a7",
   "metadata": {},
   "outputs": [],
   "source": [
    "DROP TABLE track CASCADE;\n",
    "CREATE TABLE track (\n",
    "    id SERIAL,\n",
    "    title TEXT, \n",
    "    artist TEXT, \n",
    "    album TEXT, \n",
    "    album_id INTEGER REFERENCES album(id) ON DELETE CASCADE,\n",
    "    count INTEGER, \n",
    "    rating INTEGER, \n",
    "    len INTEGER,\n",
    "    PRIMARY KEY(id)\n",
    ");"
   ]
  },
  {
   "cell_type": "markdown",
   "id": "7c71363e",
   "metadata": {},
   "source": [
    "Good!\n",
    "I have a table for keeping the data in its original form.\n",
    "Let's copy the spreadsheet to the table.\n",
    "\n",
    "`CSV HEADER` is to have Postgres skip the first row which is the header."
   ]
  },
  {
   "cell_type": "code",
   "execution_count": null,
   "id": "ae61650a",
   "metadata": {},
   "outputs": [],
   "source": [
    "\\copy track(title,artist,album,count,rating,len) FROM '...\\Database Normalization\\library.csv' WITH DELIMITER ',' CSV;\n"
   ]
  },
  {
   "cell_type": "code",
   "execution_count": null,
   "id": "4121de75",
   "metadata": {},
   "outputs": [],
   "source": [
    "SELECT COUNT(*) FROM track;\n",
    "\n",
    " count\n",
    "-------\n",
    "   296\n",
    "(1 row)"
   ]
  },
  {
   "cell_type": "markdown",
   "id": "a9617731",
   "metadata": {},
   "source": [
    "OK!\n",
    "I have the data in track table. Ready to be normalized. Let's Review NF rules.\n",
    "\n",
    "#### 1NF Rules\n",
    "\n",
    " - Each table cell should contain a single value\n",
    " - No duplicated rows or columns\n",
    " - Each column must have only one value for each row in the table\n",
    " - There must be a primary key for identification\n",
    " \n",
    " Except for the last item which I will address shortly, my database is compliant with the first set of rules.\n",
    " So, I'll go ahead with the next rules.\n",
    " \n",
    "#### 2NF Rules\n",
    "\n",
    " - Create separate tables for sets of values that apply to multiple records\n",
    " - Relate these tables with a foreign key\n",
    " \n",
    "According to this rule, I have to create separate tables for album and artist columns as they are applied to multiple records.\n",
    " \n",
    " Back to SQL!\n",
    "  "
   ]
  },
  {
   "cell_type": "code",
   "execution_count": null,
   "id": "73dc37b8",
   "metadata": {},
   "outputs": [],
   "source": [
    "DROP TABLE album CASCADE;\n",
    "CREATE TABLE album (\n",
    "    id SERIAL,\n",
    "    title VARCHAR(128) UNIQUE,\n",
    "    PRIMARY KEY(id)\n",
    ");"
   ]
  },
  {
   "cell_type": "code",
   "execution_count": null,
   "id": "4c6d3d32",
   "metadata": {},
   "outputs": [],
   "source": [
    "DROP TABLE artist CASCADE;\n",
    "CREATE TABLE artist (\n",
    "    id SERIAL,\n",
    "    name VARCHAR(128) UNIQUE,\n",
    "    PRIMARY KEY(id)\n",
    ");"
   ]
  },
  {
   "cell_type": "code",
   "execution_count": null,
   "id": "00b340f0",
   "metadata": {},
   "outputs": [],
   "source": [
    "DROP TABLE tracktoartist CASCADE;\n",
    "CREATE TABLE tracktoartist (\n",
    "    id SERIAL,\n",
    "    track VARCHAR(128),\n",
    "    track_id INTEGER REFERENCES track(id) ON DELETE CASCADE,\n",
    "    artist VARCHAR(128),\n",
    "    artist_id INTEGER REFERENCES artist(id) ON DELETE CASCADE,\n",
    "    PRIMARY KEY(id)\n",
    ");"
   ]
  },
  {
   "cell_type": "code",
   "execution_count": null,
   "id": "41ec735a",
   "metadata": {},
   "outputs": [],
   "source": [
    "unesco=# \\dt\n",
    "\n",
    " Schema |     Name      | Type  |      Owner\n",
    "--------+---------------+-------+-----------------\n",
    " public | album         | table | pg4e_14526e0dc5\n",
    " public | artist        | table | pg4e_14526e0dc5\n",
    " public | track         | table | pg4e_14526e0dc5\n",
    " public | tracktoartist | table | pg4e_14526e0dc5\n",
    "(4 rows)\n"
   ]
  },
  {
   "cell_type": "markdown",
   "id": "360fb9c6",
   "metadata": {},
   "source": [
    "Fantastic!\n",
    "I have all the necessary tables in my database, ready to be populated with data from track table.\n"
   ]
  },
  {
   "cell_type": "code",
   "execution_count": null,
   "id": "493592c5",
   "metadata": {},
   "outputs": [],
   "source": [
    "INSERT INTO album (title) SELECT DISTINCT album FROM track;\n",
    "INSERT INTO tracktoartist (track, artist) SELECT DISTINCT title, artist FROM track;\n",
    "INSERT INTO artist (name) SELECT DISTINCT artist FROM track;"
   ]
  },
  {
   "cell_type": "code",
   "execution_count": null,
   "id": "eb9cdbc2",
   "metadata": {},
   "outputs": [],
   "source": [
    "\n",
    "UPDATE track SET album_id = (SELECT album.id FROM album WHERE album.title = track.album);\n",
    "UPDATE tracktoartist SET track_id = (SELECT track.id FROM track WHERE tracktoartist.track = track.title);\n",
    "UPDATE tracktoartist SET artist_id = (SELECT artist.id FROM artist WHERE tracktoartist.artist = artist.name);\n"
   ]
  },
  {
   "cell_type": "code",
   "execution_count": null,
   "id": "7aa6db75",
   "metadata": {},
   "outputs": [],
   "source": [
    "\n",
    "ALTER TABLE track DROP COLUMN album;\n",
    "ALTER TABLE track DROP COLUMN artist;\n",
    "ALTER TABLE tracktoartist DROP COLUMN track;\n",
    "ALTER TABLE tracktoartist DROP COLUMN ARTIST;\n"
   ]
  },
  {
   "cell_type": "markdown",
   "id": "38f93f2f",
   "metadata": {},
   "source": [
    "\n",
    "And now 3NF;\n",
    "\n",
    "##### 3NF\n",
    "\n",
    " - Eliminate fields that do not depend on the key.\n",
    " \n",
    "In order to investigate compliance with this rule more precisely, I need to know more about the real-world application i.e. the context of a database. This database is now per se compliant with this rule as all fields in all table are dependent and relevant to the key."
   ]
  },
  {
   "cell_type": "markdown",
   "id": "4f3ea790",
   "metadata": {},
   "source": [
    "#### Done with Normalizing the database.\n",
    "\n",
    ":-)"
   ]
  }
 ],
 "metadata": {
  "kernelspec": {
   "display_name": "Python 3",
   "language": "python",
   "name": "python3"
  },
  "language_info": {
   "codemirror_mode": {
    "name": "ipython",
    "version": 3
   },
   "file_extension": ".py",
   "mimetype": "text/x-python",
   "name": "python",
   "nbconvert_exporter": "python",
   "pygments_lexer": "ipython3",
   "version": "3.9.4"
  }
 },
 "nbformat": 4,
 "nbformat_minor": 5
}
