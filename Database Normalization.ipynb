{
 "cells": [
  {
   "cell_type": "markdown",
   "id": "f7325f03",
   "metadata": {},
   "source": [
    "### Database Normalization\n",
    "\n",
    "In this post I am going to normalize [Unesco Heritage Sites](https://whc.unesco.org/en/list/) data which is originally in spreadsheet form."
   ]
  },
  {
   "cell_type": "code",
   "execution_count": 6,
   "id": "73ef7f5e",
   "metadata": {},
   "outputs": [],
   "source": [
    "import pandas as pd\n"
   ]
  },
  {
   "cell_type": "code",
   "execution_count": 8,
   "id": "09e4fbd9",
   "metadata": {},
   "outputs": [
    {
     "data": {
      "text/plain": [
       "(1044, 11)"
      ]
     },
     "execution_count": 8,
     "metadata": {},
     "output_type": "execute_result"
    }
   ],
   "source": [
    "\n",
    "unesco = pd.read_csv('whc-sites-2018-small.csv')\n",
    "# unesco.head()\n",
    "unesco.shape"
   ]
  },
  {
   "cell_type": "markdown",
   "id": "c7cbf722",
   "metadata": {},
   "source": [
    "Obviously, this data as it is,  has many vertical replications. Data replication takes a lot of memory and makes the database hard to maintain and manipulate. \n",
    "\n",
    "To address these issues, we need to copy this dataset into a relational database and use relations to eliminate duplication and make the data integrated and consistent.\n",
    "\n",
    "Let's start with creating a PostgreSQL database. "
   ]
  },
  {
   "cell_type": "code",
   "execution_count": 3,
   "id": "14c9d8bc",
   "metadata": {},
   "outputs": [],
   "source": [
    "CREATE DATABASE unesco"
   ]
  },
  {
   "cell_type": "markdown",
   "id": "a6034ef9",
   "metadata": {},
   "source": [
    "The databse was successfully created and now I need to create a table and copy the content of whc-sites-2018-small.csv file into it."
   ]
  },
  {
   "cell_type": "code",
   "execution_count": 2,
   "id": "2e32b7a7",
   "metadata": {},
   "outputs": [],
   "source": [
    "DROP TABLE unesco_raw;\n",
    "CREATE TABLE unesco_raw\n",
    " (name TEXT, description TEXT, justification TEXT, year INTEGER,\n",
    "    longitude FLOAT, latitude FLOAT, area_hectares FLOAT,\n",
    "    category TEXT, category_id INTEGER, state TEXT, state_id INTEGER,\n",
    "    region TEXT, region_id INTEGER, iso TEXT, iso_id INTEGER);"
   ]
  },
  {
   "cell_type": "markdown",
   "id": "7c71363e",
   "metadata": {},
   "source": [
    "Good!\n",
    "I have a table for keeping the data in its original form.\n",
    "Let's copy the spreadsheet to the table.\n",
    "\n",
    "`CSV HEADER` is to have Postgres skip the first row which is the header."
   ]
  },
  {
   "cell_type": "code",
   "execution_count": null,
   "id": "ae61650a",
   "metadata": {},
   "outputs": [],
   "source": [
    "\\copy unesco_raw(name,description,justification,year,longitude,latitude,area_hectares,category,state,region,iso) FROM '...\\Database Normalization\\whc-sites-2018-small.csv' WITH DELIMITER ',' CSV HEADER;\n"
   ]
  },
  {
   "cell_type": "code",
   "execution_count": null,
   "id": "4121de75",
   "metadata": {},
   "outputs": [],
   "source": [
    "SELECT COUNT(*) FROM unesco_raw;\n",
    "\n",
    " count\n",
    "-------\n",
    "  1044\n",
    "(1 row)"
   ]
  },
  {
   "cell_type": "markdown",
   "id": "a9617731",
   "metadata": {},
   "source": [
    "OK!\n",
    "I have the data in unesco_raw table. Ready to be normalized. Let's Review NF rules.\n",
    "\n",
    "#### 1NF Rules\n",
    "\n",
    " - Each table cell should contain a single value\n",
    " - No duplicated rows or columns\n",
    " - Each column must have only one value for each row in the table\n",
    " - There must be a primary key for identification\n",
    " \n",
    " Except for the last item which I will address shortly, my database is compliant with the first set of rules.\n",
    " So, I'll go ahead with the next rules.\n",
    " \n",
    "#### 2NF Rules\n",
    "\n",
    " - Create separate tables for sets of values that apply to multiple records\n",
    " - Relate these tables with a foreign key\n",
    " \n",
    "According to this rule, I have to create separate tables for category, region, state, and iso columns as they are applied to multiple records.\n",
    " \n",
    " Back to SQL!\n",
    "  "
   ]
  },
  {
   "cell_type": "code",
   "execution_count": null,
   "id": "73dc37b8",
   "metadata": {},
   "outputs": [],
   "source": [
    "CREATE TABLE category (\n",
    "  id SERIAL,\n",
    "  name VARCHAR(128) UNIQUE,\n",
    "  PRIMARY KEY(id)\n",
    ");"
   ]
  },
  {
   "cell_type": "code",
   "execution_count": null,
   "id": "4c6d3d32",
   "metadata": {},
   "outputs": [],
   "source": [
    "CREATE TABLE state (\n",
    "  id SERIAL,\n",
    "  name VARCHAR(128) UNIQUE,\n",
    "  PRIMARY KEY(id)\n",
    ");"
   ]
  },
  {
   "cell_type": "code",
   "execution_count": null,
   "id": "00b340f0",
   "metadata": {},
   "outputs": [],
   "source": [
    "CREATE TABLE region (\n",
    "  id SERIAL,\n",
    "  name VARCHAR(128) UNIQUE,\n",
    "  PRIMARY KEY(id)\n",
    ");"
   ]
  },
  {
   "cell_type": "code",
   "execution_count": null,
   "id": "bfdd80c6",
   "metadata": {},
   "outputs": [],
   "source": [
    "CREATE TABLE iso (\n",
    "  id SERIAL,\n",
    "  name VARCHAR(128) UNIQUE,\n",
    "  PRIMARY KEY(id)\n",
    ");"
   ]
  },
  {
   "cell_type": "code",
   "execution_count": null,
   "id": "41ec735a",
   "metadata": {},
   "outputs": [],
   "source": [
    "unesco=# \\dt\n",
    "\n",
    "           List of relations\n",
    " Schema |    Name    | Type  |  Owner\n",
    "--------+------------+-------+----------\n",
    " public | category   | table | postgres\n",
    " public | iso        | table | postgres\n",
    " public | region     | table | postgres\n",
    " public | state      | table | postgres\n",
    " public | unesco_raw | table | postgres\n",
    "(5 rows)"
   ]
  },
  {
   "cell_type": "markdown",
   "id": "360fb9c6",
   "metadata": {},
   "source": [
    "Fantastic!\n",
    "I have all the necessary tables in my database ready to be populated with data from unesco_raw table.\n"
   ]
  },
  {
   "cell_type": "code",
   "execution_count": null,
   "id": "493592c5",
   "metadata": {},
   "outputs": [],
   "source": [
    "INSERT INTO category (name) SELECT DISTINCT category FROM unesco_raw;\n",
    "\n",
    "SELECT * FROM category;\n",
    "\n",
    " id |   name\n",
    "----+----------\n",
    "  1 | Mixed\n",
    "  2 | Natural\n",
    "  3 | Cultural\n",
    "(3 rows)"
   ]
  },
  {
   "cell_type": "code",
   "execution_count": null,
   "id": "eb9cdbc2",
   "metadata": {},
   "outputs": [],
   "source": [
    "INSERT INTO state (name) SELECT DISTINCT state FROM unesco_raw;\n",
    "\n",
    "SELECT * FROM state;\n",
    "\n",
    " id  |                         name\n",
    "-----+------------------------------------------------------\n",
    "   1 | Indonesia\n",
    "   2 | Bangladesh\n",
    "   3 | Jerusalem (Site proposed by Jordan)\n",
    "   4 | Iran (Islamic Republic of)\n",
    "   5 | Kiribati\n",
    "   6 | Cameroon\n",
    "   7 | Luxembourg\n",
    "   8 | C te d'Ivoire\n",
    "   9 | Sweden\n",
    "  10 | Viet Nam\n",
    "\n",
    "-- More --\n",
    "(163 rows)\n",
    "    \n",
    "    \n",
    "SELECT COUNT(*) FROM state;\n",
    "\n",
    " count\n",
    "-------\n",
    "   163\n",
    "(1 row)\n",
    "\n"
   ]
  },
  {
   "cell_type": "code",
   "execution_count": null,
   "id": "7aa6db75",
   "metadata": {},
   "outputs": [],
   "source": [
    "INSERT INTO region (name) SELECT DISTINCT region FROM unesco_raw;\n",
    "\n",
    "SELECT * FROM region;\n",
    "\n",
    " id |              name\n",
    "----+---------------------------------\n",
    "  1 | Asia and the Pacific\n",
    "  2 | Arab States\n",
    "  3 | Africa\n",
    "  4 | Latin America and the Caribbean\n",
    "  5 | Europe and North America\n",
    "(5 rows)"
   ]
  },
  {
   "cell_type": "code",
   "execution_count": null,
   "id": "d48ea0ca",
   "metadata": {},
   "outputs": [],
   "source": [
    "INSERT INTO iso (name) SELECT DISTINCT iso FROM unesco_raw WHERE iso != ' ';\n",
    "\n",
    "SELECT * FROM iso;\n",
    "\n",
    " id  | name\n",
    "-----+------\n",
    "   1 | np\n",
    "   2 | vu\n",
    "   3 | fr\n",
    "   4 | bh\n",
    "   5 | sk\n",
    "   6 | pa\n",
    "   7 | ke\n",
    "   8 | me\n",
    "   9 | bz\n",
    "  10 | nz\n",
    "  11 | bg\n",
    "  12 | ru\n",
    "  13 | mg\n",
    "  14 | ni\n",
    "-- More --\n",
    "(162 rows)"
   ]
  },
  {
   "cell_type": "markdown",
   "id": "baa21b07",
   "metadata": {},
   "source": [
    "Great! \n",
    "\n",
    "Now I have all the necessary tables populated with relevant data. The tables are however isolated from each other, there is no relation yet. I have a UNRELATIONAL database at this stage. :-D\n",
    "\n",
    "It's time for making relations. To make relations, all I need to do is populate unesco_raw.category_id, unesco_raw.state_id, unesco_raw.region_id and unesco_raw.iso_id columns with ids from category, state, region, and iso tables respectively."
   ]
  },
  {
   "cell_type": "code",
   "execution_count": null,
   "id": "6240e35e",
   "metadata": {},
   "outputs": [],
   "source": [
    "UPDATE unesco_raw SET category_id = (SELECT category.id FROM category WHERE category.name=unesco_raw.category);\n",
    "\n",
    "UPDATE unesco_raw SET state_id = (SELECT state.id FROM state WHERE state.name=unesco_raw.state);\n",
    "\n",
    "UPDATE unesco_raw SET region_id = (SELECT region.id FROM region WHERE region.name=unesco_raw.region);\n",
    "\n",
    "UPDATE unesco_raw SET iso_id = (SELECT iso.id FROM iso WHERE iso.name=unesco_raw.iso);\n"
   ]
  },
  {
   "cell_type": "markdown",
   "id": "f7e677d2",
   "metadata": {},
   "source": [
    "I'm done with making relations.\n",
    "\n",
    "But the unesco_raw table is still full of redundant data and duplicate columns, hence not normalized.\n",
    "\n",
    "To make everything clean and tidy, I create a new table and populate it with normalized data from the unesco_raw table."
   ]
  },
  {
   "cell_type": "code",
   "execution_count": null,
   "id": "835d7334",
   "metadata": {},
   "outputs": [],
   "source": [
    "CREATE TABLE unesco\n",
    "    (name TEXT, description TEXT, justification TEXT, year INTEGER,\n",
    "    longitude FLOAT, latitude FLOAT, area_hectares FLOAT,\n",
    "    category_id INTEGER, state_id INTEGER, region_id INTEGER, iso_id INTEGER);"
   ]
  },
  {
   "cell_type": "code",
   "execution_count": null,
   "id": "e2c5f3c0",
   "metadata": {},
   "outputs": [],
   "source": [
    "unesco=# \\dt\n",
    "\n",
    "           List of relations\n",
    " Schema |    Name    | Type  |  Owner\n",
    "--------+------------+-------+----------\n",
    " public | category   | table | postgres\n",
    " public | iso        | table | postgres\n",
    " public | region     | table | postgres\n",
    " public | state      | table | postgres\n",
    " public | unesco     | table | postgres\n",
    " public | unesco_raw | table | postgres\n",
    "(6 rows)"
   ]
  },
  {
   "cell_type": "code",
   "execution_count": null,
   "id": "d6cac264",
   "metadata": {},
   "outputs": [],
   "source": [
    "INSERT INTO unesco (name, description, justification,\n",
    "                    year, longitude, latitude, \n",
    "                    area_hectares, category_id, state_id,\n",
    "                    region_id, iso_id) \n",
    "            SELECT name, description, justification,\n",
    "                    year, longitude, latitude, \n",
    "                    area_hectares, category_id, state_id,\n",
    "                    region_id, iso_id\n",
    "            FROM unesco_raw;"
   ]
  },
  {
   "cell_type": "code",
   "execution_count": null,
   "id": "ca3c5e10",
   "metadata": {},
   "outputs": [],
   "source": [
    "SELECT unesco.name, year, category.name, state.name, region.name, iso.name\n",
    "  FROM unesco\n",
    "  JOIN category ON unesco.category_id = category.id\n",
    "  JOIN iso ON unesco.iso_id = iso.id\n",
    "  JOIN state ON unesco.state_id = state.id\n",
    "  JOIN region ON unesco.region_id = region.id\n",
    "  ORDER BY region.name, unesco.name\n",
    "  LIMIT 3;\n",
    "    \n",
    "    \n",
    "              name               | year |   name   |     name     |  name  | name\n",
    "---------------------------------+------+----------+--------------+--------+------\n",
    "  Khomani Cultural Landscape     | 2017 | Cultural | South Africa | Africa | za\n",
    " Aapravasi Ghat                  | 2006 | Cultural | Mauritius    | Africa | mu\n",
    " Air and T n r  Natural Reserves | 1991 | Natural  | Niger        | Africa | ne\n",
    "(3 rows)"
   ]
  },
  {
   "cell_type": "markdown",
   "id": "38f93f2f",
   "metadata": {},
   "source": [
    "Now I can delete unesco_raw table as it is no longer needed.\n",
    "\n",
    "And now 3NF;\n",
    "\n",
    "##### 3NF\n",
    "\n",
    " - Eliminate fields that do not depend on the key.\n",
    " \n",
    "In order to investigate compliance with this rule more precisely, I need to know more about the real-world application of a database. This database is now per se compliant with this rule as all fields in the unesco table are dependent and relevant to the key."
   ]
  },
  {
   "cell_type": "markdown",
   "id": "4f3ea790",
   "metadata": {},
   "source": [
    "#### Done with Normalizing the database.\n",
    "\n",
    ":-)"
   ]
  }
 ],
 "metadata": {
  "kernelspec": {
   "display_name": "Python 3",
   "language": "python",
   "name": "python3"
  },
  "language_info": {
   "codemirror_mode": {
    "name": "ipython",
    "version": 3
   },
   "file_extension": ".py",
   "mimetype": "text/x-python",
   "name": "python",
   "nbconvert_exporter": "python",
   "pygments_lexer": "ipython3",
   "version": "3.9.4"
  }
 },
 "nbformat": 4,
 "nbformat_minor": 5
}
